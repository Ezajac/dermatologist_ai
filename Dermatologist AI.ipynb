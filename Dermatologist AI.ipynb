{
 "cells": [
  {
   "cell_type": "markdown",
   "metadata": {},
   "source": [
    "# Dermatologist AI Using Tensor Flow and Keras"
   ]
  },
  {
   "cell_type": "markdown",
   "metadata": {},
   "source": [
    "Summary: This notebook creates a Transfer Learning CNN using a Tensor Flow Backend and Keras. The transfer learning model is the InceptionV3 model. \n",
    "\n",
    "The data used is from \"The Deep Learning for Cancer Detection\" project. The base GIT repository is available git clone https://github.com/udacity/dermatologist-ai.git. \n",
    "\n",
    "Some of the coding ideas for how to use InceptionV3 to create a Transfer Learning CNN were from https://deeplearningsandbox.com/how-to-use-transfer-learning-and-fine-tuning-in-keras-and-tensorflow-to-build-an-image-recognition-94b0b02444f2. "
   ]
  },
  {
   "cell_type": "code",
   "execution_count": 93,
   "metadata": {},
   "outputs": [],
   "source": [
    "import numpy as np\n",
    "import os\n",
    "import pandas as pd\n",
    "from PIL import Image\n",
    "from sklearn.preprocessing import LabelBinarizer\n",
    "import sys\n",
    "import glob\n",
    "import argparse\n",
    "import matplotlib.pyplot as plt\n",
    "%matplotlib inline\n",
    "import pickle as pkl\n",
    "import tensorflow as tf\n",
    "from keras import __version__\n",
    "from keras.applications.inception_v3 import InceptionV3, preprocess_input, decode_predictions\n",
    "from keras.models import Model, Sequential\n",
    "from keras.layers import Dropout, Flatten,Dense, GlobalAveragePooling2D\n",
    "from keras.optimizers import SGD\n",
    "from keras.preprocessing import image \n",
    "from keras.callbacks import ModelCheckpoint, EarlyStopping\n",
    "from keras.utils import plot_model\n",
    "from PIL import Image\n",
    "import seaborn as sns"
   ]
  },
  {
   "cell_type": "code",
   "execution_count": 2,
   "metadata": {},
   "outputs": [
    {
     "name": "stdout",
     "output_type": "stream",
     "text": [
      "TensorFlow Version: 1.2.0\n",
      "Keras Version: 2.1.1\n"
     ]
    }
   ],
   "source": [
    "print('TensorFlow Version:', tf.__version__)\n",
    "print('Keras Version:', __version__)"
   ]
  },
  {
   "cell_type": "markdown",
   "metadata": {},
   "source": [
    "Step 1: Data Preparation\n",
    "Use OS library to create a list of all images in train, test, and validate\n",
    "Create One-Hot Encoding of Labels"
   ]
  },
  {
   "cell_type": "code",
   "execution_count": 2,
   "metadata": {},
   "outputs": [
    {
     "name": "stdout",
     "output_type": "stream",
     "text": [
      "['nevus', 'seborrheic_keratosis', 'melanoma'] ['nevus', 'seborrheic_keratosis', 'melanoma'] ['nevus', 'seborrheic_keratosis', 'melanoma']\n"
     ]
    }
   ],
   "source": [
    "top_level_train = os.listdir('data/train')\n",
    "top_level_test = os.listdir('data/test')\n",
    "top_level_valid = os.listdir('data/valid')\n",
    "print(top_level_train, top_level_test, top_level_train)"
   ]
  },
  {
   "cell_type": "markdown",
   "metadata": {},
   "source": [
    "Scroll through all directories of files and generate a list of all images."
   ]
  },
  {
   "cell_type": "code",
   "execution_count": 5,
   "metadata": {},
   "outputs": [
    {
     "name": "stdout",
     "output_type": "stream",
     "text": [
      "2000 600 150\n"
     ]
    }
   ],
   "source": [
    "def file_parser(high_level, dirs):\n",
    "    files = []\n",
    "    for directory in dirs:\n",
    "        for file in os.listdir(high_level + directory):\n",
    "            files.append(directory + '/' + file)\n",
    "    return files\n",
    "train_files = file_parser('data/train/', top_level_train)\n",
    "test_files = file_parser('data/test/', top_level_test)\n",
    "valid_files = file_parser('data/valid/', top_level_valid)\n",
    "print(len(train_files), len(test_files), len(valid_files))"
   ]
  },
  {
   "cell_type": "markdown",
   "metadata": {},
   "source": [
    "Inception Input Needs to be (299, 299, 3). These next steps will resize all images to this for use in the model."
   ]
  },
  {
   "cell_type": "code",
   "execution_count": 17,
   "metadata": {
    "collapsed": true
   },
   "outputs": [],
   "source": [
    "#Image Hyperparameters\n",
    "IM_WIDTH = 299\n",
    "IM_HEIGHT = 299"
   ]
  },
  {
   "cell_type": "code",
   "execution_count": 8,
   "metadata": {
    "collapsed": true
   },
   "outputs": [],
   "source": [
    "def img_prep(img_path):\n",
    "    '''\n",
    "    Function to fetch the image from the image path and return a numpy array of the image.\n",
    "    The size of the returned image will be defined by IM_WIDTH and IM_HEIGHT (defined above)\n",
    "    '''\n",
    "    img = image.load_img(img_path, target_size=(IM_WIDTH, IM_HEIGHT))\n",
    "    return image.img_to_array(img)"
   ]
  },
  {
   "cell_type": "markdown",
   "metadata": {},
   "source": [
    "# Get the Data and Labels from the Image Directories"
   ]
  },
  {
   "cell_type": "code",
   "execution_count": 15,
   "metadata": {
    "collapsed": true
   },
   "outputs": [],
   "source": [
    "trn_files = []\n",
    "trn_labels = []\n",
    "for file in train_files:\n",
    "    trn_files.append(img_prep('data/train/' + file))\n",
    "    dir_file = file.split('/')\n",
    "    trn_labels.append(dir_file[0])"
   ]
  },
  {
   "cell_type": "code",
   "execution_count": 10,
   "metadata": {
    "collapsed": true
   },
   "outputs": [],
   "source": [
    "tst_files = []\n",
    "tst_labels = []\n",
    "for file in test_files:\n",
    "    tst_files.append(img_prep('data/test/' + file))\n",
    "    dir_file = file.split('/')\n",
    "    tst_labels.append(dir_file[0])"
   ]
  },
  {
   "cell_type": "code",
   "execution_count": 11,
   "metadata": {
    "collapsed": true
   },
   "outputs": [],
   "source": [
    "vld_files = []\n",
    "vld_labels = []\n",
    "for file in valid_files:\n",
    "    vld_files.append(img_prep('data/valid/' + file))\n",
    "    dir_file = file.split('/')\n",
    "    vld_labels.append(dir_file[0])"
   ]
  },
  {
   "cell_type": "code",
   "execution_count": 16,
   "metadata": {
    "collapsed": true
   },
   "outputs": [],
   "source": [
    "#all_files = [trn_files, trn_labels, tst_files, tst_labels, vld_files, vld_labels]\n",
    "\n",
    "def convert_to_array(lst):\n",
    "    return np.asarray(lst)\n",
    "\n",
    "trn_files = convert_to_array(trn_files)\n",
    "trn_labels = convert_to_array(trn_labels)\n",
    "tst_files = convert_to_array(tst_files)\n",
    "tst_labels = convert_to_array(tst_labels)\n",
    "vld_files = convert_to_array(vld_files)\n",
    "vld_labels = convert_to_array(vld_labels)"
   ]
  },
  {
   "cell_type": "code",
   "execution_count": 23,
   "metadata": {},
   "outputs": [
    {
     "name": "stdout",
     "output_type": "stream",
     "text": [
      "<class 'numpy.ndarray'>\n"
     ]
    }
   ],
   "source": [
    "print(type(trn_files))"
   ]
  },
  {
   "cell_type": "markdown",
   "metadata": {},
   "source": [
    "# Save all Image Data and Labels Using Pickle to Save On Data Prep"
   ]
  },
  {
   "cell_type": "markdown",
   "metadata": {},
   "source": [
    "Loading data from disk is time consuming the steps below save time the next time you want to run the analysis."
   ]
  },
  {
   "cell_type": "code",
   "execution_count": 24,
   "metadata": {},
   "outputs": [
    {
     "name": "stdout",
     "output_type": "stream",
     "text": [
      "2000 2000\n"
     ]
    }
   ],
   "source": [
    "print(len(trn_files), len(trn_labels))\n",
    "with open('pickled/trn_files.pkl', 'wb') as f:\n",
    "    pkl.dump(trn_files, f)\n",
    "with open('pickled/trn_labels.pkl', 'wb') as f:\n",
    "    pkl.dump(trn_labels, f)"
   ]
  },
  {
   "cell_type": "code",
   "execution_count": 25,
   "metadata": {},
   "outputs": [
    {
     "name": "stdout",
     "output_type": "stream",
     "text": [
      "600 600\n"
     ]
    }
   ],
   "source": [
    "print(len(tst_files), len(tst_labels))\n",
    "with open('pickled/tst_files.pkl', 'wb') as f:\n",
    "    pkl.dump(tst_files, f)\n",
    "with open('pickled/tst_labels.pkl', 'wb') as f:\n",
    "    pkl.dump(tst_labels, f)"
   ]
  },
  {
   "cell_type": "code",
   "execution_count": 26,
   "metadata": {},
   "outputs": [
    {
     "name": "stdout",
     "output_type": "stream",
     "text": [
      "150 150\n"
     ]
    }
   ],
   "source": [
    "print(len(vld_files), len(vld_labels))\n",
    "with open('pickled/vld_files.pkl', 'wb') as f:\n",
    "    pkl.dump(vld_files, f)\n",
    "with open('pickled/vld_labels.pkl', 'wb') as f:\n",
    "    pkl.dump(vld_labels, f)"
   ]
  },
  {
   "cell_type": "markdown",
   "metadata": {},
   "source": [
    "# Use This To Skip The Data Prep After Starting the Notebook"
   ]
  },
  {
   "cell_type": "code",
   "execution_count": 37,
   "metadata": {
    "collapsed": true
   },
   "outputs": [],
   "source": [
    "#Load Pickled Datasets\n",
    "with open('pickled/trn_files.pkl', 'rb') as f:\n",
    "    trn_files = pkl.load(f)\n",
    "with open('pickled/trn_labels.pkl', 'rb') as f:\n",
    "    trn_labels = pkl.load(f)\n",
    "with open('pickled/tst_files.pkl', 'rb') as f:\n",
    "    tst_files = pkl.load(f)\n",
    "with open('pickled/tst_labels.pkl', 'rb') as f:\n",
    "    tst_labels = pkl.load(f)\n",
    "with open('pickled/vld_files.pkl', 'rb') as f:\n",
    "    vld_files = pkl.load(f)\n",
    "with open('pickled/vld_labels.pkl', 'rb') as f:\n",
    "    vld_labels = pkl.load(f)"
   ]
  },
  {
   "cell_type": "markdown",
   "metadata": {},
   "source": [
    "Convert Labels to One One Hot Vectors"
   ]
  },
  {
   "cell_type": "code",
   "execution_count": 38,
   "metadata": {
    "collapsed": true
   },
   "outputs": [],
   "source": [
    "lb = LabelBinarizer()\n",
    "lb.fit(trn_labels)\n",
    "trn_label_vecs = lb.transform(trn_labels)\n",
    "test_lb = LabelBinarizer()\n",
    "test_lb.fit(tst_labels)\n",
    "tst_label_vecs = test_lb.transform(tst_labels)\n",
    "valid_lb = LabelBinarizer()\n",
    "valid_lb.fit(vld_labels)\n",
    "vld_label_vecs = valid_lb.transform(vld_labels)"
   ]
  },
  {
   "cell_type": "code",
   "execution_count": 39,
   "metadata": {},
   "outputs": [
    {
     "data": {
      "text/plain": [
       "array([0, 1, 0])"
      ]
     },
     "execution_count": 39,
     "metadata": {},
     "output_type": "execute_result"
    }
   ],
   "source": [
    "#Validate One-Hot Vectorization is correct\n",
    "trn_label_vecs[20]"
   ]
  },
  {
   "cell_type": "code",
   "execution_count": 40,
   "metadata": {},
   "outputs": [],
   "source": [
    "#Shuffle the Data\n",
    "def randomize_data(files, labels):\n",
    "    randomize = np.arange(len(files))\n",
    "    np.random.shuffle(randomize)\n",
    "    return trn_files[randomize], trn_label_vecs[randomize]\n",
    "trn_files, trn_label_vecs = randomize_data(trn_files, trn_label_vecs)\n",
    "tst_files, tst_label_vecs = randomize_data(tst_files, tst_label_vecs)\n",
    "vld_files, vld_label_vecs = randomize_data(vld_files, vld_label_vecs)"
   ]
  },
  {
   "cell_type": "code",
   "execution_count": 6,
   "metadata": {},
   "outputs": [
    {
     "name": "stdout",
     "output_type": "stream",
     "text": [
      "2000 2000\n",
      "<class 'numpy.ndarray'> <class 'numpy.ndarray'>\n"
     ]
    }
   ],
   "source": [
    "print(len(trn_label_vecs), len(trn_files))\n",
    "print(type(trn_label_vecs), type(trn_files))"
   ]
  },
  {
   "cell_type": "code",
   "execution_count": 100,
   "metadata": {},
   "outputs": [
    {
     "name": "stdout",
     "output_type": "stream",
     "text": [
      "374 1372 254\n"
     ]
    }
   ],
   "source": [
    "Melanoma = 0\n",
    "Nevus = 0 \n",
    "Seborrheic_Keratosis = 0\n",
    "for label in trn_labels:\n",
    "    if label == 'melanoma':\n",
    "        Melanoma += 1\n",
    "    if label == 'nevus':\n",
    "        Nevus += 1\n",
    "    if label == 'seborrheic_keratosis':\n",
    "        Seborrheic_Keratosis += 1\n",
    "print(Melanoma, Nevus, Seborrheic_Keratosis)"
   ]
  },
  {
   "cell_type": "markdown",
   "metadata": {},
   "source": [
    "# Create Transer Learning Model"
   ]
  },
  {
   "cell_type": "markdown",
   "metadata": {},
   "source": [
    "The add_new_last_layer function adds two new fully connected layers to the model with relu activation. The function finally adds a softmax layer to handle the prediction of the model. "
   ]
  },
  {
   "cell_type": "code",
   "execution_count": 65,
   "metadata": {
    "collapsed": true
   },
   "outputs": [],
   "source": [
    "def add_new_last_layer(base_model, nb_classes, fc_size, fc_size2, drop):\n",
    "    \"\"\"Add last layer to the convnet\n",
    "    Args:\n",
    "    base_model: keras model excluding top\n",
    "    nb_classes: # of classes\n",
    "    Returns:\n",
    "    new keras model with last layer\n",
    "    \"\"\"\n",
    "    x = base_model.output\n",
    "    x = GlobalAveragePooling2D()(x)\n",
    "    x = Dense(fc_size, activation='relu')(x) #new FC layer, random init\n",
    "    x = Dropout(drop)(x)\n",
    "    x = Dense(fc_size2, activation='relu')(x) #new FC layer, random init\n",
    "    x = Dropout(drop)(x)\n",
    "    predictions = Dense(nb_classes, activation='softmax')(x) #new softmax layer\n",
    "    model = Model(input=base_model.input, output=predictions)\n",
    "    return model"
   ]
  },
  {
   "cell_type": "code",
   "execution_count": 64,
   "metadata": {
    "collapsed": true
   },
   "outputs": [],
   "source": [
    "#Model Hyperparamaters\n",
    "nb_classes = 3\n",
    "fc_size = 512\n",
    "fc_size2 = 256\n",
    "batch_size = 100\n",
    "dropout = 0.5"
   ]
  },
  {
   "cell_type": "code",
   "execution_count": 66,
   "metadata": {},
   "outputs": [
    {
     "name": "stderr",
     "output_type": "stream",
     "text": [
      "/opt/anaconda/anaconda3/lib/python3.6/site-packages/ipykernel_launcher.py:16: UserWarning: Update your `Model` call to the Keras 2 API: `Model(inputs=Tensor(\"in..., outputs=Tensor(\"de...)`\n",
      "  app.launch_new_instance()\n"
     ]
    }
   ],
   "source": [
    "base_model = InceptionV3(weights='imagenet', include_top=False) #include_top=False excludes final FC layer\n",
    "model = add_new_last_layer(base_model, nb_classes, fc_size, fc_size2, dropout)"
   ]
  },
  {
   "cell_type": "code",
   "execution_count": 53,
   "metadata": {},
   "outputs": [
    {
     "name": "stdout",
     "output_type": "stream",
     "text": [
      "__________________________________________________________________________________________________\n",
      "Layer (type)                    Output Shape         Param #     Connected to                     \n",
      "==================================================================================================\n",
      "input_4 (InputLayer)            (None, None, None, 3 0                                            \n",
      "__________________________________________________________________________________________________\n",
      "conv2d_283 (Conv2D)             (None, None, None, 3 864         input_4[0][0]                    \n",
      "__________________________________________________________________________________________________\n",
      "batch_normalization_283 (BatchN (None, None, None, 3 96          conv2d_283[0][0]                 \n",
      "__________________________________________________________________________________________________\n",
      "activation_283 (Activation)     (None, None, None, 3 0           batch_normalization_283[0][0]    \n",
      "__________________________________________________________________________________________________\n",
      "conv2d_284 (Conv2D)             (None, None, None, 3 9216        activation_283[0][0]             \n",
      "__________________________________________________________________________________________________\n",
      "batch_normalization_284 (BatchN (None, None, None, 3 96          conv2d_284[0][0]                 \n",
      "__________________________________________________________________________________________________\n",
      "activation_284 (Activation)     (None, None, None, 3 0           batch_normalization_284[0][0]    \n",
      "__________________________________________________________________________________________________\n",
      "conv2d_285 (Conv2D)             (None, None, None, 6 18432       activation_284[0][0]             \n",
      "__________________________________________________________________________________________________\n",
      "batch_normalization_285 (BatchN (None, None, None, 6 192         conv2d_285[0][0]                 \n",
      "__________________________________________________________________________________________________\n",
      "activation_285 (Activation)     (None, None, None, 6 0           batch_normalization_285[0][0]    \n",
      "__________________________________________________________________________________________________\n",
      "max_pooling2d_13 (MaxPooling2D) (None, None, None, 6 0           activation_285[0][0]             \n",
      "__________________________________________________________________________________________________\n",
      "conv2d_286 (Conv2D)             (None, None, None, 8 5120        max_pooling2d_13[0][0]           \n",
      "__________________________________________________________________________________________________\n",
      "batch_normalization_286 (BatchN (None, None, None, 8 240         conv2d_286[0][0]                 \n",
      "__________________________________________________________________________________________________\n",
      "activation_286 (Activation)     (None, None, None, 8 0           batch_normalization_286[0][0]    \n",
      "__________________________________________________________________________________________________\n",
      "conv2d_287 (Conv2D)             (None, None, None, 1 138240      activation_286[0][0]             \n",
      "__________________________________________________________________________________________________\n",
      "batch_normalization_287 (BatchN (None, None, None, 1 576         conv2d_287[0][0]                 \n",
      "__________________________________________________________________________________________________\n",
      "activation_287 (Activation)     (None, None, None, 1 0           batch_normalization_287[0][0]    \n",
      "__________________________________________________________________________________________________\n",
      "max_pooling2d_14 (MaxPooling2D) (None, None, None, 1 0           activation_287[0][0]             \n",
      "__________________________________________________________________________________________________\n",
      "conv2d_291 (Conv2D)             (None, None, None, 6 12288       max_pooling2d_14[0][0]           \n",
      "__________________________________________________________________________________________________\n",
      "batch_normalization_291 (BatchN (None, None, None, 6 192         conv2d_291[0][0]                 \n",
      "__________________________________________________________________________________________________\n",
      "activation_291 (Activation)     (None, None, None, 6 0           batch_normalization_291[0][0]    \n",
      "__________________________________________________________________________________________________\n",
      "conv2d_289 (Conv2D)             (None, None, None, 4 9216        max_pooling2d_14[0][0]           \n",
      "__________________________________________________________________________________________________\n",
      "conv2d_292 (Conv2D)             (None, None, None, 9 55296       activation_291[0][0]             \n",
      "__________________________________________________________________________________________________\n",
      "batch_normalization_289 (BatchN (None, None, None, 4 144         conv2d_289[0][0]                 \n",
      "__________________________________________________________________________________________________\n",
      "batch_normalization_292 (BatchN (None, None, None, 9 288         conv2d_292[0][0]                 \n",
      "__________________________________________________________________________________________________\n",
      "activation_289 (Activation)     (None, None, None, 4 0           batch_normalization_289[0][0]    \n",
      "__________________________________________________________________________________________________\n",
      "activation_292 (Activation)     (None, None, None, 9 0           batch_normalization_292[0][0]    \n",
      "__________________________________________________________________________________________________\n",
      "average_pooling2d_28 (AveragePo (None, None, None, 1 0           max_pooling2d_14[0][0]           \n",
      "__________________________________________________________________________________________________\n",
      "conv2d_288 (Conv2D)             (None, None, None, 6 12288       max_pooling2d_14[0][0]           \n",
      "__________________________________________________________________________________________________\n",
      "conv2d_290 (Conv2D)             (None, None, None, 6 76800       activation_289[0][0]             \n",
      "__________________________________________________________________________________________________\n",
      "conv2d_293 (Conv2D)             (None, None, None, 9 82944       activation_292[0][0]             \n",
      "__________________________________________________________________________________________________\n",
      "conv2d_294 (Conv2D)             (None, None, None, 3 6144        average_pooling2d_28[0][0]       \n",
      "__________________________________________________________________________________________________\n",
      "batch_normalization_288 (BatchN (None, None, None, 6 192         conv2d_288[0][0]                 \n",
      "__________________________________________________________________________________________________\n",
      "batch_normalization_290 (BatchN (None, None, None, 6 192         conv2d_290[0][0]                 \n",
      "__________________________________________________________________________________________________\n",
      "batch_normalization_293 (BatchN (None, None, None, 9 288         conv2d_293[0][0]                 \n",
      "__________________________________________________________________________________________________\n",
      "batch_normalization_294 (BatchN (None, None, None, 3 96          conv2d_294[0][0]                 \n",
      "__________________________________________________________________________________________________\n",
      "activation_288 (Activation)     (None, None, None, 6 0           batch_normalization_288[0][0]    \n",
      "__________________________________________________________________________________________________\n",
      "activation_290 (Activation)     (None, None, None, 6 0           batch_normalization_290[0][0]    \n",
      "__________________________________________________________________________________________________\n",
      "activation_293 (Activation)     (None, None, None, 9 0           batch_normalization_293[0][0]    \n",
      "__________________________________________________________________________________________________\n",
      "activation_294 (Activation)     (None, None, None, 3 0           batch_normalization_294[0][0]    \n",
      "__________________________________________________________________________________________________\n",
      "mixed0 (Concatenate)            (None, None, None, 2 0           activation_288[0][0]             \n",
      "                                                                 activation_290[0][0]             \n",
      "                                                                 activation_293[0][0]             \n",
      "                                                                 activation_294[0][0]             \n",
      "__________________________________________________________________________________________________\n",
      "conv2d_298 (Conv2D)             (None, None, None, 6 16384       mixed0[0][0]                     \n",
      "__________________________________________________________________________________________________\n",
      "batch_normalization_298 (BatchN (None, None, None, 6 192         conv2d_298[0][0]                 \n",
      "__________________________________________________________________________________________________\n",
      "activation_298 (Activation)     (None, None, None, 6 0           batch_normalization_298[0][0]    \n",
      "__________________________________________________________________________________________________\n",
      "conv2d_296 (Conv2D)             (None, None, None, 4 12288       mixed0[0][0]                     \n",
      "__________________________________________________________________________________________________\n",
      "conv2d_299 (Conv2D)             (None, None, None, 9 55296       activation_298[0][0]             \n",
      "__________________________________________________________________________________________________\n",
      "batch_normalization_296 (BatchN (None, None, None, 4 144         conv2d_296[0][0]                 \n",
      "__________________________________________________________________________________________________\n",
      "batch_normalization_299 (BatchN (None, None, None, 9 288         conv2d_299[0][0]                 \n",
      "__________________________________________________________________________________________________\n",
      "activation_296 (Activation)     (None, None, None, 4 0           batch_normalization_296[0][0]    \n",
      "__________________________________________________________________________________________________\n",
      "activation_299 (Activation)     (None, None, None, 9 0           batch_normalization_299[0][0]    \n",
      "__________________________________________________________________________________________________\n",
      "average_pooling2d_29 (AveragePo (None, None, None, 2 0           mixed0[0][0]                     \n",
      "__________________________________________________________________________________________________\n",
      "conv2d_295 (Conv2D)             (None, None, None, 6 16384       mixed0[0][0]                     \n",
      "__________________________________________________________________________________________________\n",
      "conv2d_297 (Conv2D)             (None, None, None, 6 76800       activation_296[0][0]             \n",
      "__________________________________________________________________________________________________\n",
      "conv2d_300 (Conv2D)             (None, None, None, 9 82944       activation_299[0][0]             \n",
      "__________________________________________________________________________________________________\n",
      "conv2d_301 (Conv2D)             (None, None, None, 6 16384       average_pooling2d_29[0][0]       \n",
      "__________________________________________________________________________________________________\n",
      "batch_normalization_295 (BatchN (None, None, None, 6 192         conv2d_295[0][0]                 \n",
      "__________________________________________________________________________________________________\n",
      "batch_normalization_297 (BatchN (None, None, None, 6 192         conv2d_297[0][0]                 \n",
      "__________________________________________________________________________________________________\n",
      "batch_normalization_300 (BatchN (None, None, None, 9 288         conv2d_300[0][0]                 \n",
      "__________________________________________________________________________________________________\n",
      "batch_normalization_301 (BatchN (None, None, None, 6 192         conv2d_301[0][0]                 \n",
      "__________________________________________________________________________________________________\n",
      "activation_295 (Activation)     (None, None, None, 6 0           batch_normalization_295[0][0]    \n",
      "__________________________________________________________________________________________________\n",
      "activation_297 (Activation)     (None, None, None, 6 0           batch_normalization_297[0][0]    \n",
      "__________________________________________________________________________________________________\n",
      "activation_300 (Activation)     (None, None, None, 9 0           batch_normalization_300[0][0]    \n",
      "__________________________________________________________________________________________________\n",
      "activation_301 (Activation)     (None, None, None, 6 0           batch_normalization_301[0][0]    \n",
      "__________________________________________________________________________________________________\n",
      "mixed1 (Concatenate)            (None, None, None, 2 0           activation_295[0][0]             \n",
      "                                                                 activation_297[0][0]             \n",
      "                                                                 activation_300[0][0]             \n",
      "                                                                 activation_301[0][0]             \n",
      "__________________________________________________________________________________________________\n",
      "conv2d_305 (Conv2D)             (None, None, None, 6 18432       mixed1[0][0]                     \n",
      "__________________________________________________________________________________________________\n",
      "batch_normalization_305 (BatchN (None, None, None, 6 192         conv2d_305[0][0]                 \n",
      "__________________________________________________________________________________________________\n",
      "activation_305 (Activation)     (None, None, None, 6 0           batch_normalization_305[0][0]    \n",
      "__________________________________________________________________________________________________\n",
      "conv2d_303 (Conv2D)             (None, None, None, 4 13824       mixed1[0][0]                     \n",
      "__________________________________________________________________________________________________\n",
      "conv2d_306 (Conv2D)             (None, None, None, 9 55296       activation_305[0][0]             \n",
      "__________________________________________________________________________________________________\n",
      "batch_normalization_303 (BatchN (None, None, None, 4 144         conv2d_303[0][0]                 \n",
      "__________________________________________________________________________________________________\n",
      "batch_normalization_306 (BatchN (None, None, None, 9 288         conv2d_306[0][0]                 \n",
      "__________________________________________________________________________________________________\n",
      "activation_303 (Activation)     (None, None, None, 4 0           batch_normalization_303[0][0]    \n",
      "__________________________________________________________________________________________________\n",
      "activation_306 (Activation)     (None, None, None, 9 0           batch_normalization_306[0][0]    \n",
      "__________________________________________________________________________________________________\n",
      "average_pooling2d_30 (AveragePo (None, None, None, 2 0           mixed1[0][0]                     \n",
      "__________________________________________________________________________________________________\n",
      "conv2d_302 (Conv2D)             (None, None, None, 6 18432       mixed1[0][0]                     \n",
      "__________________________________________________________________________________________________\n",
      "conv2d_304 (Conv2D)             (None, None, None, 6 76800       activation_303[0][0]             \n",
      "__________________________________________________________________________________________________\n",
      "conv2d_307 (Conv2D)             (None, None, None, 9 82944       activation_306[0][0]             \n",
      "__________________________________________________________________________________________________\n",
      "conv2d_308 (Conv2D)             (None, None, None, 6 18432       average_pooling2d_30[0][0]       \n",
      "__________________________________________________________________________________________________\n",
      "batch_normalization_302 (BatchN (None, None, None, 6 192         conv2d_302[0][0]                 \n",
      "__________________________________________________________________________________________________\n",
      "batch_normalization_304 (BatchN (None, None, None, 6 192         conv2d_304[0][0]                 \n",
      "__________________________________________________________________________________________________\n",
      "batch_normalization_307 (BatchN (None, None, None, 9 288         conv2d_307[0][0]                 \n",
      "__________________________________________________________________________________________________\n",
      "batch_normalization_308 (BatchN (None, None, None, 6 192         conv2d_308[0][0]                 \n",
      "__________________________________________________________________________________________________\n",
      "activation_302 (Activation)     (None, None, None, 6 0           batch_normalization_302[0][0]    \n",
      "__________________________________________________________________________________________________\n",
      "activation_304 (Activation)     (None, None, None, 6 0           batch_normalization_304[0][0]    \n",
      "__________________________________________________________________________________________________\n",
      "activation_307 (Activation)     (None, None, None, 9 0           batch_normalization_307[0][0]    \n",
      "__________________________________________________________________________________________________\n",
      "activation_308 (Activation)     (None, None, None, 6 0           batch_normalization_308[0][0]    \n",
      "__________________________________________________________________________________________________\n",
      "mixed2 (Concatenate)            (None, None, None, 2 0           activation_302[0][0]             \n",
      "                                                                 activation_304[0][0]             \n",
      "                                                                 activation_307[0][0]             \n",
      "                                                                 activation_308[0][0]             \n",
      "__________________________________________________________________________________________________\n",
      "conv2d_310 (Conv2D)             (None, None, None, 6 18432       mixed2[0][0]                     \n",
      "__________________________________________________________________________________________________\n",
      "batch_normalization_310 (BatchN (None, None, None, 6 192         conv2d_310[0][0]                 \n",
      "__________________________________________________________________________________________________\n",
      "activation_310 (Activation)     (None, None, None, 6 0           batch_normalization_310[0][0]    \n",
      "__________________________________________________________________________________________________\n",
      "conv2d_311 (Conv2D)             (None, None, None, 9 55296       activation_310[0][0]             \n",
      "__________________________________________________________________________________________________\n",
      "batch_normalization_311 (BatchN (None, None, None, 9 288         conv2d_311[0][0]                 \n",
      "__________________________________________________________________________________________________\n",
      "activation_311 (Activation)     (None, None, None, 9 0           batch_normalization_311[0][0]    \n",
      "__________________________________________________________________________________________________\n",
      "conv2d_309 (Conv2D)             (None, None, None, 3 995328      mixed2[0][0]                     \n",
      "__________________________________________________________________________________________________\n",
      "conv2d_312 (Conv2D)             (None, None, None, 9 82944       activation_311[0][0]             \n",
      "__________________________________________________________________________________________________\n",
      "batch_normalization_309 (BatchN (None, None, None, 3 1152        conv2d_309[0][0]                 \n",
      "__________________________________________________________________________________________________\n",
      "batch_normalization_312 (BatchN (None, None, None, 9 288         conv2d_312[0][0]                 \n",
      "__________________________________________________________________________________________________\n",
      "activation_309 (Activation)     (None, None, None, 3 0           batch_normalization_309[0][0]    \n",
      "__________________________________________________________________________________________________\n",
      "activation_312 (Activation)     (None, None, None, 9 0           batch_normalization_312[0][0]    \n",
      "__________________________________________________________________________________________________\n",
      "max_pooling2d_15 (MaxPooling2D) (None, None, None, 2 0           mixed2[0][0]                     \n",
      "__________________________________________________________________________________________________\n",
      "mixed3 (Concatenate)            (None, None, None, 7 0           activation_309[0][0]             \n",
      "                                                                 activation_312[0][0]             \n",
      "                                                                 max_pooling2d_15[0][0]           \n",
      "__________________________________________________________________________________________________\n",
      "conv2d_317 (Conv2D)             (None, None, None, 1 98304       mixed3[0][0]                     \n",
      "__________________________________________________________________________________________________\n",
      "batch_normalization_317 (BatchN (None, None, None, 1 384         conv2d_317[0][0]                 \n",
      "__________________________________________________________________________________________________\n",
      "activation_317 (Activation)     (None, None, None, 1 0           batch_normalization_317[0][0]    \n",
      "__________________________________________________________________________________________________\n",
      "conv2d_318 (Conv2D)             (None, None, None, 1 114688      activation_317[0][0]             \n",
      "__________________________________________________________________________________________________\n",
      "batch_normalization_318 (BatchN (None, None, None, 1 384         conv2d_318[0][0]                 \n",
      "__________________________________________________________________________________________________\n",
      "activation_318 (Activation)     (None, None, None, 1 0           batch_normalization_318[0][0]    \n",
      "__________________________________________________________________________________________________\n",
      "conv2d_314 (Conv2D)             (None, None, None, 1 98304       mixed3[0][0]                     \n",
      "__________________________________________________________________________________________________\n",
      "conv2d_319 (Conv2D)             (None, None, None, 1 114688      activation_318[0][0]             \n",
      "__________________________________________________________________________________________________\n",
      "batch_normalization_314 (BatchN (None, None, None, 1 384         conv2d_314[0][0]                 \n",
      "__________________________________________________________________________________________________\n",
      "batch_normalization_319 (BatchN (None, None, None, 1 384         conv2d_319[0][0]                 \n",
      "__________________________________________________________________________________________________\n",
      "activation_314 (Activation)     (None, None, None, 1 0           batch_normalization_314[0][0]    \n",
      "__________________________________________________________________________________________________\n",
      "activation_319 (Activation)     (None, None, None, 1 0           batch_normalization_319[0][0]    \n",
      "__________________________________________________________________________________________________\n",
      "conv2d_315 (Conv2D)             (None, None, None, 1 114688      activation_314[0][0]             \n",
      "__________________________________________________________________________________________________\n",
      "conv2d_320 (Conv2D)             (None, None, None, 1 114688      activation_319[0][0]             \n",
      "__________________________________________________________________________________________________\n",
      "batch_normalization_315 (BatchN (None, None, None, 1 384         conv2d_315[0][0]                 \n",
      "__________________________________________________________________________________________________\n",
      "batch_normalization_320 (BatchN (None, None, None, 1 384         conv2d_320[0][0]                 \n",
      "__________________________________________________________________________________________________\n",
      "activation_315 (Activation)     (None, None, None, 1 0           batch_normalization_315[0][0]    \n",
      "__________________________________________________________________________________________________\n",
      "activation_320 (Activation)     (None, None, None, 1 0           batch_normalization_320[0][0]    \n",
      "__________________________________________________________________________________________________\n",
      "average_pooling2d_31 (AveragePo (None, None, None, 7 0           mixed3[0][0]                     \n",
      "__________________________________________________________________________________________________\n",
      "conv2d_313 (Conv2D)             (None, None, None, 1 147456      mixed3[0][0]                     \n",
      "__________________________________________________________________________________________________\n",
      "conv2d_316 (Conv2D)             (None, None, None, 1 172032      activation_315[0][0]             \n",
      "__________________________________________________________________________________________________\n",
      "conv2d_321 (Conv2D)             (None, None, None, 1 172032      activation_320[0][0]             \n",
      "__________________________________________________________________________________________________\n",
      "conv2d_322 (Conv2D)             (None, None, None, 1 147456      average_pooling2d_31[0][0]       \n",
      "__________________________________________________________________________________________________\n",
      "batch_normalization_313 (BatchN (None, None, None, 1 576         conv2d_313[0][0]                 \n",
      "__________________________________________________________________________________________________\n",
      "batch_normalization_316 (BatchN (None, None, None, 1 576         conv2d_316[0][0]                 \n",
      "__________________________________________________________________________________________________\n",
      "batch_normalization_321 (BatchN (None, None, None, 1 576         conv2d_321[0][0]                 \n",
      "__________________________________________________________________________________________________\n",
      "batch_normalization_322 (BatchN (None, None, None, 1 576         conv2d_322[0][0]                 \n",
      "__________________________________________________________________________________________________\n",
      "activation_313 (Activation)     (None, None, None, 1 0           batch_normalization_313[0][0]    \n",
      "__________________________________________________________________________________________________\n",
      "activation_316 (Activation)     (None, None, None, 1 0           batch_normalization_316[0][0]    \n",
      "__________________________________________________________________________________________________\n",
      "activation_321 (Activation)     (None, None, None, 1 0           batch_normalization_321[0][0]    \n",
      "__________________________________________________________________________________________________\n",
      "activation_322 (Activation)     (None, None, None, 1 0           batch_normalization_322[0][0]    \n",
      "__________________________________________________________________________________________________\n",
      "mixed4 (Concatenate)            (None, None, None, 7 0           activation_313[0][0]             \n",
      "                                                                 activation_316[0][0]             \n",
      "                                                                 activation_321[0][0]             \n",
      "                                                                 activation_322[0][0]             \n",
      "__________________________________________________________________________________________________\n",
      "conv2d_327 (Conv2D)             (None, None, None, 1 122880      mixed4[0][0]                     \n",
      "__________________________________________________________________________________________________\n",
      "batch_normalization_327 (BatchN (None, None, None, 1 480         conv2d_327[0][0]                 \n",
      "__________________________________________________________________________________________________\n",
      "activation_327 (Activation)     (None, None, None, 1 0           batch_normalization_327[0][0]    \n",
      "__________________________________________________________________________________________________\n",
      "conv2d_328 (Conv2D)             (None, None, None, 1 179200      activation_327[0][0]             \n",
      "__________________________________________________________________________________________________\n",
      "batch_normalization_328 (BatchN (None, None, None, 1 480         conv2d_328[0][0]                 \n",
      "__________________________________________________________________________________________________\n",
      "activation_328 (Activation)     (None, None, None, 1 0           batch_normalization_328[0][0]    \n",
      "__________________________________________________________________________________________________\n",
      "conv2d_324 (Conv2D)             (None, None, None, 1 122880      mixed4[0][0]                     \n",
      "__________________________________________________________________________________________________\n",
      "conv2d_329 (Conv2D)             (None, None, None, 1 179200      activation_328[0][0]             \n",
      "__________________________________________________________________________________________________\n",
      "batch_normalization_324 (BatchN (None, None, None, 1 480         conv2d_324[0][0]                 \n",
      "__________________________________________________________________________________________________\n",
      "batch_normalization_329 (BatchN (None, None, None, 1 480         conv2d_329[0][0]                 \n",
      "__________________________________________________________________________________________________\n",
      "activation_324 (Activation)     (None, None, None, 1 0           batch_normalization_324[0][0]    \n",
      "__________________________________________________________________________________________________\n",
      "activation_329 (Activation)     (None, None, None, 1 0           batch_normalization_329[0][0]    \n",
      "__________________________________________________________________________________________________\n",
      "conv2d_325 (Conv2D)             (None, None, None, 1 179200      activation_324[0][0]             \n",
      "__________________________________________________________________________________________________\n",
      "conv2d_330 (Conv2D)             (None, None, None, 1 179200      activation_329[0][0]             \n",
      "__________________________________________________________________________________________________\n",
      "batch_normalization_325 (BatchN (None, None, None, 1 480         conv2d_325[0][0]                 \n",
      "__________________________________________________________________________________________________\n",
      "batch_normalization_330 (BatchN (None, None, None, 1 480         conv2d_330[0][0]                 \n",
      "__________________________________________________________________________________________________\n",
      "activation_325 (Activation)     (None, None, None, 1 0           batch_normalization_325[0][0]    \n",
      "__________________________________________________________________________________________________\n",
      "activation_330 (Activation)     (None, None, None, 1 0           batch_normalization_330[0][0]    \n",
      "__________________________________________________________________________________________________\n",
      "average_pooling2d_32 (AveragePo (None, None, None, 7 0           mixed4[0][0]                     \n",
      "__________________________________________________________________________________________________\n",
      "conv2d_323 (Conv2D)             (None, None, None, 1 147456      mixed4[0][0]                     \n",
      "__________________________________________________________________________________________________\n",
      "conv2d_326 (Conv2D)             (None, None, None, 1 215040      activation_325[0][0]             \n",
      "__________________________________________________________________________________________________\n",
      "conv2d_331 (Conv2D)             (None, None, None, 1 215040      activation_330[0][0]             \n",
      "__________________________________________________________________________________________________\n",
      "conv2d_332 (Conv2D)             (None, None, None, 1 147456      average_pooling2d_32[0][0]       \n",
      "__________________________________________________________________________________________________\n",
      "batch_normalization_323 (BatchN (None, None, None, 1 576         conv2d_323[0][0]                 \n",
      "__________________________________________________________________________________________________\n",
      "batch_normalization_326 (BatchN (None, None, None, 1 576         conv2d_326[0][0]                 \n",
      "__________________________________________________________________________________________________\n",
      "batch_normalization_331 (BatchN (None, None, None, 1 576         conv2d_331[0][0]                 \n",
      "__________________________________________________________________________________________________\n",
      "batch_normalization_332 (BatchN (None, None, None, 1 576         conv2d_332[0][0]                 \n",
      "__________________________________________________________________________________________________\n",
      "activation_323 (Activation)     (None, None, None, 1 0           batch_normalization_323[0][0]    \n",
      "__________________________________________________________________________________________________\n",
      "activation_326 (Activation)     (None, None, None, 1 0           batch_normalization_326[0][0]    \n",
      "__________________________________________________________________________________________________\n",
      "activation_331 (Activation)     (None, None, None, 1 0           batch_normalization_331[0][0]    \n",
      "__________________________________________________________________________________________________\n",
      "activation_332 (Activation)     (None, None, None, 1 0           batch_normalization_332[0][0]    \n",
      "__________________________________________________________________________________________________\n",
      "mixed5 (Concatenate)            (None, None, None, 7 0           activation_323[0][0]             \n",
      "                                                                 activation_326[0][0]             \n",
      "                                                                 activation_331[0][0]             \n",
      "                                                                 activation_332[0][0]             \n",
      "__________________________________________________________________________________________________\n",
      "conv2d_337 (Conv2D)             (None, None, None, 1 122880      mixed5[0][0]                     \n",
      "__________________________________________________________________________________________________\n",
      "batch_normalization_337 (BatchN (None, None, None, 1 480         conv2d_337[0][0]                 \n",
      "__________________________________________________________________________________________________\n",
      "activation_337 (Activation)     (None, None, None, 1 0           batch_normalization_337[0][0]    \n",
      "__________________________________________________________________________________________________\n",
      "conv2d_338 (Conv2D)             (None, None, None, 1 179200      activation_337[0][0]             \n",
      "__________________________________________________________________________________________________\n",
      "batch_normalization_338 (BatchN (None, None, None, 1 480         conv2d_338[0][0]                 \n",
      "__________________________________________________________________________________________________\n",
      "activation_338 (Activation)     (None, None, None, 1 0           batch_normalization_338[0][0]    \n",
      "__________________________________________________________________________________________________\n",
      "conv2d_334 (Conv2D)             (None, None, None, 1 122880      mixed5[0][0]                     \n",
      "__________________________________________________________________________________________________\n",
      "conv2d_339 (Conv2D)             (None, None, None, 1 179200      activation_338[0][0]             \n",
      "__________________________________________________________________________________________________\n",
      "batch_normalization_334 (BatchN (None, None, None, 1 480         conv2d_334[0][0]                 \n",
      "__________________________________________________________________________________________________\n",
      "batch_normalization_339 (BatchN (None, None, None, 1 480         conv2d_339[0][0]                 \n",
      "__________________________________________________________________________________________________\n",
      "activation_334 (Activation)     (None, None, None, 1 0           batch_normalization_334[0][0]    \n",
      "__________________________________________________________________________________________________\n",
      "activation_339 (Activation)     (None, None, None, 1 0           batch_normalization_339[0][0]    \n",
      "__________________________________________________________________________________________________\n",
      "conv2d_335 (Conv2D)             (None, None, None, 1 179200      activation_334[0][0]             \n",
      "__________________________________________________________________________________________________\n",
      "conv2d_340 (Conv2D)             (None, None, None, 1 179200      activation_339[0][0]             \n",
      "__________________________________________________________________________________________________\n",
      "batch_normalization_335 (BatchN (None, None, None, 1 480         conv2d_335[0][0]                 \n",
      "__________________________________________________________________________________________________\n",
      "batch_normalization_340 (BatchN (None, None, None, 1 480         conv2d_340[0][0]                 \n",
      "__________________________________________________________________________________________________\n",
      "activation_335 (Activation)     (None, None, None, 1 0           batch_normalization_335[0][0]    \n",
      "__________________________________________________________________________________________________\n",
      "activation_340 (Activation)     (None, None, None, 1 0           batch_normalization_340[0][0]    \n",
      "__________________________________________________________________________________________________\n",
      "average_pooling2d_33 (AveragePo (None, None, None, 7 0           mixed5[0][0]                     \n",
      "__________________________________________________________________________________________________\n",
      "conv2d_333 (Conv2D)             (None, None, None, 1 147456      mixed5[0][0]                     \n",
      "__________________________________________________________________________________________________\n",
      "conv2d_336 (Conv2D)             (None, None, None, 1 215040      activation_335[0][0]             \n",
      "__________________________________________________________________________________________________\n",
      "conv2d_341 (Conv2D)             (None, None, None, 1 215040      activation_340[0][0]             \n",
      "__________________________________________________________________________________________________\n",
      "conv2d_342 (Conv2D)             (None, None, None, 1 147456      average_pooling2d_33[0][0]       \n",
      "__________________________________________________________________________________________________\n",
      "batch_normalization_333 (BatchN (None, None, None, 1 576         conv2d_333[0][0]                 \n",
      "__________________________________________________________________________________________________\n",
      "batch_normalization_336 (BatchN (None, None, None, 1 576         conv2d_336[0][0]                 \n",
      "__________________________________________________________________________________________________\n",
      "batch_normalization_341 (BatchN (None, None, None, 1 576         conv2d_341[0][0]                 \n",
      "__________________________________________________________________________________________________\n",
      "batch_normalization_342 (BatchN (None, None, None, 1 576         conv2d_342[0][0]                 \n",
      "__________________________________________________________________________________________________\n",
      "activation_333 (Activation)     (None, None, None, 1 0           batch_normalization_333[0][0]    \n",
      "__________________________________________________________________________________________________\n",
      "activation_336 (Activation)     (None, None, None, 1 0           batch_normalization_336[0][0]    \n",
      "__________________________________________________________________________________________________\n",
      "activation_341 (Activation)     (None, None, None, 1 0           batch_normalization_341[0][0]    \n",
      "__________________________________________________________________________________________________\n",
      "activation_342 (Activation)     (None, None, None, 1 0           batch_normalization_342[0][0]    \n",
      "__________________________________________________________________________________________________\n",
      "mixed6 (Concatenate)            (None, None, None, 7 0           activation_333[0][0]             \n",
      "                                                                 activation_336[0][0]             \n",
      "                                                                 activation_341[0][0]             \n",
      "                                                                 activation_342[0][0]             \n",
      "__________________________________________________________________________________________________\n",
      "conv2d_347 (Conv2D)             (None, None, None, 1 147456      mixed6[0][0]                     \n",
      "__________________________________________________________________________________________________\n",
      "batch_normalization_347 (BatchN (None, None, None, 1 576         conv2d_347[0][0]                 \n",
      "__________________________________________________________________________________________________\n",
      "activation_347 (Activation)     (None, None, None, 1 0           batch_normalization_347[0][0]    \n",
      "__________________________________________________________________________________________________\n",
      "conv2d_348 (Conv2D)             (None, None, None, 1 258048      activation_347[0][0]             \n",
      "__________________________________________________________________________________________________\n",
      "batch_normalization_348 (BatchN (None, None, None, 1 576         conv2d_348[0][0]                 \n",
      "__________________________________________________________________________________________________\n",
      "activation_348 (Activation)     (None, None, None, 1 0           batch_normalization_348[0][0]    \n",
      "__________________________________________________________________________________________________\n",
      "conv2d_344 (Conv2D)             (None, None, None, 1 147456      mixed6[0][0]                     \n",
      "__________________________________________________________________________________________________\n",
      "conv2d_349 (Conv2D)             (None, None, None, 1 258048      activation_348[0][0]             \n",
      "__________________________________________________________________________________________________\n",
      "batch_normalization_344 (BatchN (None, None, None, 1 576         conv2d_344[0][0]                 \n",
      "__________________________________________________________________________________________________\n",
      "batch_normalization_349 (BatchN (None, None, None, 1 576         conv2d_349[0][0]                 \n",
      "__________________________________________________________________________________________________\n",
      "activation_344 (Activation)     (None, None, None, 1 0           batch_normalization_344[0][0]    \n",
      "__________________________________________________________________________________________________\n",
      "activation_349 (Activation)     (None, None, None, 1 0           batch_normalization_349[0][0]    \n",
      "__________________________________________________________________________________________________\n",
      "conv2d_345 (Conv2D)             (None, None, None, 1 258048      activation_344[0][0]             \n",
      "__________________________________________________________________________________________________\n",
      "conv2d_350 (Conv2D)             (None, None, None, 1 258048      activation_349[0][0]             \n",
      "__________________________________________________________________________________________________\n",
      "batch_normalization_345 (BatchN (None, None, None, 1 576         conv2d_345[0][0]                 \n",
      "__________________________________________________________________________________________________\n",
      "batch_normalization_350 (BatchN (None, None, None, 1 576         conv2d_350[0][0]                 \n",
      "__________________________________________________________________________________________________\n",
      "activation_345 (Activation)     (None, None, None, 1 0           batch_normalization_345[0][0]    \n",
      "__________________________________________________________________________________________________\n",
      "activation_350 (Activation)     (None, None, None, 1 0           batch_normalization_350[0][0]    \n",
      "__________________________________________________________________________________________________\n",
      "average_pooling2d_34 (AveragePo (None, None, None, 7 0           mixed6[0][0]                     \n",
      "__________________________________________________________________________________________________\n",
      "conv2d_343 (Conv2D)             (None, None, None, 1 147456      mixed6[0][0]                     \n",
      "__________________________________________________________________________________________________\n",
      "conv2d_346 (Conv2D)             (None, None, None, 1 258048      activation_345[0][0]             \n",
      "__________________________________________________________________________________________________\n",
      "conv2d_351 (Conv2D)             (None, None, None, 1 258048      activation_350[0][0]             \n",
      "__________________________________________________________________________________________________\n",
      "conv2d_352 (Conv2D)             (None, None, None, 1 147456      average_pooling2d_34[0][0]       \n",
      "__________________________________________________________________________________________________\n",
      "batch_normalization_343 (BatchN (None, None, None, 1 576         conv2d_343[0][0]                 \n",
      "__________________________________________________________________________________________________\n",
      "batch_normalization_346 (BatchN (None, None, None, 1 576         conv2d_346[0][0]                 \n",
      "__________________________________________________________________________________________________\n",
      "batch_normalization_351 (BatchN (None, None, None, 1 576         conv2d_351[0][0]                 \n",
      "__________________________________________________________________________________________________\n",
      "batch_normalization_352 (BatchN (None, None, None, 1 576         conv2d_352[0][0]                 \n",
      "__________________________________________________________________________________________________\n",
      "activation_343 (Activation)     (None, None, None, 1 0           batch_normalization_343[0][0]    \n",
      "__________________________________________________________________________________________________\n",
      "activation_346 (Activation)     (None, None, None, 1 0           batch_normalization_346[0][0]    \n",
      "__________________________________________________________________________________________________\n",
      "activation_351 (Activation)     (None, None, None, 1 0           batch_normalization_351[0][0]    \n",
      "__________________________________________________________________________________________________\n",
      "activation_352 (Activation)     (None, None, None, 1 0           batch_normalization_352[0][0]    \n",
      "__________________________________________________________________________________________________\n",
      "mixed7 (Concatenate)            (None, None, None, 7 0           activation_343[0][0]             \n",
      "                                                                 activation_346[0][0]             \n",
      "                                                                 activation_351[0][0]             \n",
      "                                                                 activation_352[0][0]             \n",
      "__________________________________________________________________________________________________\n",
      "conv2d_355 (Conv2D)             (None, None, None, 1 147456      mixed7[0][0]                     \n",
      "__________________________________________________________________________________________________\n",
      "batch_normalization_355 (BatchN (None, None, None, 1 576         conv2d_355[0][0]                 \n",
      "__________________________________________________________________________________________________\n",
      "activation_355 (Activation)     (None, None, None, 1 0           batch_normalization_355[0][0]    \n",
      "__________________________________________________________________________________________________\n",
      "conv2d_356 (Conv2D)             (None, None, None, 1 258048      activation_355[0][0]             \n",
      "__________________________________________________________________________________________________\n",
      "batch_normalization_356 (BatchN (None, None, None, 1 576         conv2d_356[0][0]                 \n",
      "__________________________________________________________________________________________________\n",
      "activation_356 (Activation)     (None, None, None, 1 0           batch_normalization_356[0][0]    \n",
      "__________________________________________________________________________________________________\n",
      "conv2d_353 (Conv2D)             (None, None, None, 1 147456      mixed7[0][0]                     \n",
      "__________________________________________________________________________________________________\n",
      "conv2d_357 (Conv2D)             (None, None, None, 1 258048      activation_356[0][0]             \n",
      "__________________________________________________________________________________________________\n",
      "batch_normalization_353 (BatchN (None, None, None, 1 576         conv2d_353[0][0]                 \n",
      "__________________________________________________________________________________________________\n",
      "batch_normalization_357 (BatchN (None, None, None, 1 576         conv2d_357[0][0]                 \n",
      "__________________________________________________________________________________________________\n",
      "activation_353 (Activation)     (None, None, None, 1 0           batch_normalization_353[0][0]    \n",
      "__________________________________________________________________________________________________\n",
      "activation_357 (Activation)     (None, None, None, 1 0           batch_normalization_357[0][0]    \n",
      "__________________________________________________________________________________________________\n",
      "conv2d_354 (Conv2D)             (None, None, None, 3 552960      activation_353[0][0]             \n",
      "__________________________________________________________________________________________________\n",
      "conv2d_358 (Conv2D)             (None, None, None, 1 331776      activation_357[0][0]             \n",
      "__________________________________________________________________________________________________\n",
      "batch_normalization_354 (BatchN (None, None, None, 3 960         conv2d_354[0][0]                 \n",
      "__________________________________________________________________________________________________\n",
      "batch_normalization_358 (BatchN (None, None, None, 1 576         conv2d_358[0][0]                 \n",
      "__________________________________________________________________________________________________\n",
      "activation_354 (Activation)     (None, None, None, 3 0           batch_normalization_354[0][0]    \n",
      "__________________________________________________________________________________________________\n",
      "activation_358 (Activation)     (None, None, None, 1 0           batch_normalization_358[0][0]    \n",
      "__________________________________________________________________________________________________\n",
      "max_pooling2d_16 (MaxPooling2D) (None, None, None, 7 0           mixed7[0][0]                     \n",
      "__________________________________________________________________________________________________\n",
      "mixed8 (Concatenate)            (None, None, None, 1 0           activation_354[0][0]             \n",
      "                                                                 activation_358[0][0]             \n",
      "                                                                 max_pooling2d_16[0][0]           \n",
      "__________________________________________________________________________________________________\n",
      "conv2d_363 (Conv2D)             (None, None, None, 4 573440      mixed8[0][0]                     \n",
      "__________________________________________________________________________________________________\n",
      "batch_normalization_363 (BatchN (None, None, None, 4 1344        conv2d_363[0][0]                 \n",
      "__________________________________________________________________________________________________\n",
      "activation_363 (Activation)     (None, None, None, 4 0           batch_normalization_363[0][0]    \n",
      "__________________________________________________________________________________________________\n",
      "conv2d_360 (Conv2D)             (None, None, None, 3 491520      mixed8[0][0]                     \n",
      "__________________________________________________________________________________________________\n",
      "conv2d_364 (Conv2D)             (None, None, None, 3 1548288     activation_363[0][0]             \n",
      "__________________________________________________________________________________________________\n",
      "batch_normalization_360 (BatchN (None, None, None, 3 1152        conv2d_360[0][0]                 \n",
      "__________________________________________________________________________________________________\n",
      "batch_normalization_364 (BatchN (None, None, None, 3 1152        conv2d_364[0][0]                 \n",
      "__________________________________________________________________________________________________\n",
      "activation_360 (Activation)     (None, None, None, 3 0           batch_normalization_360[0][0]    \n",
      "__________________________________________________________________________________________________\n",
      "activation_364 (Activation)     (None, None, None, 3 0           batch_normalization_364[0][0]    \n",
      "__________________________________________________________________________________________________\n",
      "conv2d_361 (Conv2D)             (None, None, None, 3 442368      activation_360[0][0]             \n",
      "__________________________________________________________________________________________________\n",
      "conv2d_362 (Conv2D)             (None, None, None, 3 442368      activation_360[0][0]             \n",
      "__________________________________________________________________________________________________\n",
      "conv2d_365 (Conv2D)             (None, None, None, 3 442368      activation_364[0][0]             \n",
      "__________________________________________________________________________________________________\n",
      "conv2d_366 (Conv2D)             (None, None, None, 3 442368      activation_364[0][0]             \n",
      "__________________________________________________________________________________________________\n",
      "average_pooling2d_35 (AveragePo (None, None, None, 1 0           mixed8[0][0]                     \n",
      "__________________________________________________________________________________________________\n",
      "conv2d_359 (Conv2D)             (None, None, None, 3 409600      mixed8[0][0]                     \n",
      "__________________________________________________________________________________________________\n",
      "batch_normalization_361 (BatchN (None, None, None, 3 1152        conv2d_361[0][0]                 \n",
      "__________________________________________________________________________________________________\n",
      "batch_normalization_362 (BatchN (None, None, None, 3 1152        conv2d_362[0][0]                 \n",
      "__________________________________________________________________________________________________\n",
      "batch_normalization_365 (BatchN (None, None, None, 3 1152        conv2d_365[0][0]                 \n",
      "__________________________________________________________________________________________________\n",
      "batch_normalization_366 (BatchN (None, None, None, 3 1152        conv2d_366[0][0]                 \n",
      "__________________________________________________________________________________________________\n",
      "conv2d_367 (Conv2D)             (None, None, None, 1 245760      average_pooling2d_35[0][0]       \n",
      "__________________________________________________________________________________________________\n",
      "batch_normalization_359 (BatchN (None, None, None, 3 960         conv2d_359[0][0]                 \n",
      "__________________________________________________________________________________________________\n",
      "activation_361 (Activation)     (None, None, None, 3 0           batch_normalization_361[0][0]    \n",
      "__________________________________________________________________________________________________\n",
      "activation_362 (Activation)     (None, None, None, 3 0           batch_normalization_362[0][0]    \n",
      "__________________________________________________________________________________________________\n",
      "activation_365 (Activation)     (None, None, None, 3 0           batch_normalization_365[0][0]    \n",
      "__________________________________________________________________________________________________\n",
      "activation_366 (Activation)     (None, None, None, 3 0           batch_normalization_366[0][0]    \n",
      "__________________________________________________________________________________________________\n",
      "batch_normalization_367 (BatchN (None, None, None, 1 576         conv2d_367[0][0]                 \n",
      "__________________________________________________________________________________________________\n",
      "activation_359 (Activation)     (None, None, None, 3 0           batch_normalization_359[0][0]    \n",
      "__________________________________________________________________________________________________\n",
      "mixed9_0 (Concatenate)          (None, None, None, 7 0           activation_361[0][0]             \n",
      "                                                                 activation_362[0][0]             \n",
      "__________________________________________________________________________________________________\n",
      "concatenate_7 (Concatenate)     (None, None, None, 7 0           activation_365[0][0]             \n",
      "                                                                 activation_366[0][0]             \n",
      "__________________________________________________________________________________________________\n",
      "activation_367 (Activation)     (None, None, None, 1 0           batch_normalization_367[0][0]    \n",
      "__________________________________________________________________________________________________\n",
      "mixed9 (Concatenate)            (None, None, None, 2 0           activation_359[0][0]             \n",
      "                                                                 mixed9_0[0][0]                   \n",
      "                                                                 concatenate_7[0][0]              \n",
      "                                                                 activation_367[0][0]             \n",
      "__________________________________________________________________________________________________\n",
      "conv2d_372 (Conv2D)             (None, None, None, 4 917504      mixed9[0][0]                     \n",
      "__________________________________________________________________________________________________\n",
      "batch_normalization_372 (BatchN (None, None, None, 4 1344        conv2d_372[0][0]                 \n",
      "__________________________________________________________________________________________________\n",
      "activation_372 (Activation)     (None, None, None, 4 0           batch_normalization_372[0][0]    \n",
      "__________________________________________________________________________________________________\n",
      "conv2d_369 (Conv2D)             (None, None, None, 3 786432      mixed9[0][0]                     \n",
      "__________________________________________________________________________________________________\n",
      "conv2d_373 (Conv2D)             (None, None, None, 3 1548288     activation_372[0][0]             \n",
      "__________________________________________________________________________________________________\n",
      "batch_normalization_369 (BatchN (None, None, None, 3 1152        conv2d_369[0][0]                 \n",
      "__________________________________________________________________________________________________\n",
      "batch_normalization_373 (BatchN (None, None, None, 3 1152        conv2d_373[0][0]                 \n",
      "__________________________________________________________________________________________________\n",
      "activation_369 (Activation)     (None, None, None, 3 0           batch_normalization_369[0][0]    \n",
      "__________________________________________________________________________________________________\n",
      "activation_373 (Activation)     (None, None, None, 3 0           batch_normalization_373[0][0]    \n",
      "__________________________________________________________________________________________________\n",
      "conv2d_370 (Conv2D)             (None, None, None, 3 442368      activation_369[0][0]             \n",
      "__________________________________________________________________________________________________\n",
      "conv2d_371 (Conv2D)             (None, None, None, 3 442368      activation_369[0][0]             \n",
      "__________________________________________________________________________________________________\n",
      "conv2d_374 (Conv2D)             (None, None, None, 3 442368      activation_373[0][0]             \n",
      "__________________________________________________________________________________________________\n",
      "conv2d_375 (Conv2D)             (None, None, None, 3 442368      activation_373[0][0]             \n",
      "__________________________________________________________________________________________________\n",
      "average_pooling2d_36 (AveragePo (None, None, None, 2 0           mixed9[0][0]                     \n",
      "__________________________________________________________________________________________________\n",
      "conv2d_368 (Conv2D)             (None, None, None, 3 655360      mixed9[0][0]                     \n",
      "__________________________________________________________________________________________________\n",
      "batch_normalization_370 (BatchN (None, None, None, 3 1152        conv2d_370[0][0]                 \n",
      "__________________________________________________________________________________________________\n",
      "batch_normalization_371 (BatchN (None, None, None, 3 1152        conv2d_371[0][0]                 \n",
      "__________________________________________________________________________________________________\n",
      "batch_normalization_374 (BatchN (None, None, None, 3 1152        conv2d_374[0][0]                 \n",
      "__________________________________________________________________________________________________\n",
      "batch_normalization_375 (BatchN (None, None, None, 3 1152        conv2d_375[0][0]                 \n",
      "__________________________________________________________________________________________________\n",
      "conv2d_376 (Conv2D)             (None, None, None, 1 393216      average_pooling2d_36[0][0]       \n",
      "__________________________________________________________________________________________________\n",
      "batch_normalization_368 (BatchN (None, None, None, 3 960         conv2d_368[0][0]                 \n",
      "__________________________________________________________________________________________________\n",
      "activation_370 (Activation)     (None, None, None, 3 0           batch_normalization_370[0][0]    \n",
      "__________________________________________________________________________________________________\n",
      "activation_371 (Activation)     (None, None, None, 3 0           batch_normalization_371[0][0]    \n",
      "__________________________________________________________________________________________________\n",
      "activation_374 (Activation)     (None, None, None, 3 0           batch_normalization_374[0][0]    \n",
      "__________________________________________________________________________________________________\n",
      "activation_375 (Activation)     (None, None, None, 3 0           batch_normalization_375[0][0]    \n",
      "__________________________________________________________________________________________________\n",
      "batch_normalization_376 (BatchN (None, None, None, 1 576         conv2d_376[0][0]                 \n",
      "__________________________________________________________________________________________________\n",
      "activation_368 (Activation)     (None, None, None, 3 0           batch_normalization_368[0][0]    \n",
      "__________________________________________________________________________________________________\n",
      "mixed9_1 (Concatenate)          (None, None, None, 7 0           activation_370[0][0]             \n",
      "                                                                 activation_371[0][0]             \n",
      "__________________________________________________________________________________________________\n",
      "concatenate_8 (Concatenate)     (None, None, None, 7 0           activation_374[0][0]             \n",
      "                                                                 activation_375[0][0]             \n",
      "__________________________________________________________________________________________________\n",
      "activation_376 (Activation)     (None, None, None, 1 0           batch_normalization_376[0][0]    \n",
      "__________________________________________________________________________________________________\n",
      "mixed10 (Concatenate)           (None, None, None, 2 0           activation_368[0][0]             \n",
      "                                                                 mixed9_1[0][0]                   \n",
      "                                                                 concatenate_8[0][0]              \n",
      "                                                                 activation_376[0][0]             \n",
      "__________________________________________________________________________________________________\n",
      "global_average_pooling2d_4 (Glo (None, 2048)         0           mixed10[0][0]                    \n",
      "__________________________________________________________________________________________________\n",
      "dense_8 (Dense)                 (None, 1024)         2098176     global_average_pooling2d_4[0][0] \n",
      "__________________________________________________________________________________________________\n",
      "dropout_5 (Dropout)             (None, 1024)         0           dense_8[0][0]                    \n",
      "__________________________________________________________________________________________________\n",
      "dense_9 (Dense)                 (None, 3)            3075        dropout_5[0][0]                  \n",
      "==================================================================================================\n",
      "Total params: 23,904,035\n",
      "Trainable params: 23,869,603\n",
      "Non-trainable params: 34,432\n",
      "__________________________________________________________________________________________________\n"
     ]
    }
   ],
   "source": [
    "#Print a summary of the model architecture.\n",
    "model.summary()"
   ]
  },
  {
   "cell_type": "code",
   "execution_count": 54,
   "metadata": {
    "collapsed": true
   },
   "outputs": [],
   "source": [
    "model.save_weights('saved_models/inception_baseline.h5')"
   ]
  },
  {
   "cell_type": "code",
   "execution_count": 46,
   "metadata": {},
   "outputs": [
    {
     "name": "stdout",
     "output_type": "stream",
     "text": [
      "315\n"
     ]
    }
   ],
   "source": [
    "i = 0\n",
    "for layer in model.layers:\n",
    "    i += 1\n",
    "print(i)"
   ]
  },
  {
   "cell_type": "code",
   "execution_count": 67,
   "metadata": {},
   "outputs": [],
   "source": [
    "def setup_to_transfer_learn(model):\n",
    "    \"\"\"Freeze all pretrained layers and compile the model\"\"\"\n",
    "    for layer in model.layers[:312]:\n",
    "        layer.trainable = False\n",
    "    model.compile(optimizer='adam', loss='categorical_crossentropy', metrics=['accuracy'])\n",
    "setup_to_transfer_learn(model)\n",
    "#Other Optimizers 'adam'. Not much success with SGD(lr=0.0001, momentum=0.9), 'rmsprop'"
   ]
  },
  {
   "cell_type": "code",
   "execution_count": 68,
   "metadata": {},
   "outputs": [
    {
     "name": "stdout",
     "output_type": "stream",
     "text": [
      "Train on 2000 samples, validate on 150 samples\n",
      "Epoch 1/20\n",
      "1900/2000 [===========================>..] - ETA: 0s - loss: 1.0137 - acc: 0.6268Epoch 00001: val_loss improved from inf to 0.88939, saving model to saved_models/weights.best.from_scratch.hdf5\n",
      "2000/2000 [==============================] - 45s 22ms/step - loss: 1.0097 - acc: 0.6230 - val_loss: 0.8894 - val_acc: 0.6667\n",
      "Epoch 2/20\n",
      "1900/2000 [===========================>..] - ETA: 0s - loss: 0.8512 - acc: 0.6584Epoch 00002: val_loss improved from 0.88939 to 0.88813, saving model to saved_models/weights.best.from_scratch.hdf5\n",
      "2000/2000 [==============================] - 15s 7ms/step - loss: 0.8402 - acc: 0.6665 - val_loss: 0.8881 - val_acc: 0.6667\n",
      "Epoch 3/20\n",
      "1900/2000 [===========================>..] - ETA: 0s - loss: 0.8071 - acc: 0.6768Epoch 00003: val_loss improved from 0.88813 to 0.85921, saving model to saved_models/weights.best.from_scratch.hdf5\n",
      "2000/2000 [==============================] - 15s 8ms/step - loss: 0.8066 - acc: 0.6745 - val_loss: 0.8592 - val_acc: 0.6667\n",
      "Epoch 4/20\n",
      "1900/2000 [===========================>..] - ETA: 0s - loss: 0.7362 - acc: 0.6989Epoch 00004: val_loss did not improve\n",
      "2000/2000 [==============================] - 14s 7ms/step - loss: 0.7332 - acc: 0.7000 - val_loss: 0.9629 - val_acc: 0.6667\n",
      "Epoch 5/20\n",
      "1900/2000 [===========================>..] - ETA: 0s - loss: 0.7146 - acc: 0.7116Epoch 00005: val_loss improved from 0.85921 to 0.76082, saving model to saved_models/weights.best.from_scratch.hdf5\n",
      "2000/2000 [==============================] - 15s 7ms/step - loss: 0.7221 - acc: 0.7070 - val_loss: 0.7608 - val_acc: 0.6800\n",
      "Epoch 6/20\n",
      "1900/2000 [===========================>..] - ETA: 0s - loss: 0.7182 - acc: 0.7042Epoch 00006: val_loss improved from 0.76082 to 0.74145, saving model to saved_models/weights.best.from_scratch.hdf5\n",
      "2000/2000 [==============================] - 15s 7ms/step - loss: 0.7134 - acc: 0.7065 - val_loss: 0.7414 - val_acc: 0.6800\n",
      "Epoch 7/20\n",
      "1900/2000 [===========================>..] - ETA: 0s - loss: 0.6768 - acc: 0.7058Epoch 00007: val_loss improved from 0.74145 to 0.70351, saving model to saved_models/weights.best.from_scratch.hdf5\n",
      "2000/2000 [==============================] - 15s 8ms/step - loss: 0.6706 - acc: 0.7090 - val_loss: 0.7035 - val_acc: 0.6800\n",
      "Epoch 8/20\n",
      "1900/2000 [===========================>..] - ETA: 0s - loss: 0.6824 - acc: 0.7158Epoch 00008: val_loss improved from 0.70351 to 0.66870, saving model to saved_models/weights.best.from_scratch.hdf5\n",
      "2000/2000 [==============================] - 15s 7ms/step - loss: 0.6780 - acc: 0.7180 - val_loss: 0.6687 - val_acc: 0.6667\n",
      "Epoch 9/20\n",
      "1900/2000 [===========================>..] - ETA: 0s - loss: 0.6568 - acc: 0.7258Epoch 00009: val_loss improved from 0.66870 to 0.61411, saving model to saved_models/weights.best.from_scratch.hdf5\n",
      "2000/2000 [==============================] - 15s 7ms/step - loss: 0.6557 - acc: 0.7265 - val_loss: 0.6141 - val_acc: 0.6933\n",
      "Epoch 10/20\n",
      "1900/2000 [===========================>..] - ETA: 0s - loss: 0.6191 - acc: 0.7305Epoch 00010: val_loss improved from 0.61411 to 0.58832, saving model to saved_models/weights.best.from_scratch.hdf5\n",
      "2000/2000 [==============================] - 15s 7ms/step - loss: 0.6230 - acc: 0.7295 - val_loss: 0.5883 - val_acc: 0.7400\n",
      "Epoch 11/20\n",
      "1900/2000 [===========================>..] - ETA: 0s - loss: 0.6196 - acc: 0.7337Epoch 00011: val_loss improved from 0.58832 to 0.52189, saving model to saved_models/weights.best.from_scratch.hdf5\n",
      "2000/2000 [==============================] - 15s 7ms/step - loss: 0.6265 - acc: 0.7300 - val_loss: 0.5219 - val_acc: 0.7600\n",
      "Epoch 12/20\n",
      "1900/2000 [===========================>..] - ETA: 0s - loss: 0.5988 - acc: 0.7458Epoch 00012: val_loss improved from 0.52189 to 0.49261, saving model to saved_models/weights.best.from_scratch.hdf5\n",
      "2000/2000 [==============================] - 15s 7ms/step - loss: 0.6007 - acc: 0.7475 - val_loss: 0.4926 - val_acc: 0.8000\n",
      "Epoch 13/20\n",
      "1900/2000 [===========================>..] - ETA: 0s - loss: 0.5898 - acc: 0.7574Epoch 00013: val_loss improved from 0.49261 to 0.47063, saving model to saved_models/weights.best.from_scratch.hdf5\n",
      "2000/2000 [==============================] - 15s 7ms/step - loss: 0.5953 - acc: 0.7545 - val_loss: 0.4706 - val_acc: 0.8333\n",
      "Epoch 14/20\n",
      "1900/2000 [===========================>..] - ETA: 0s - loss: 0.5709 - acc: 0.7611Epoch 00014: val_loss improved from 0.47063 to 0.45085, saving model to saved_models/weights.best.from_scratch.hdf5\n",
      "2000/2000 [==============================] - 15s 7ms/step - loss: 0.5713 - acc: 0.7610 - val_loss: 0.4508 - val_acc: 0.8267\n",
      "Epoch 15/20\n",
      "1900/2000 [===========================>..] - ETA: 0s - loss: 0.5693 - acc: 0.7516Epoch 00015: val_loss did not improve\n",
      "2000/2000 [==============================] - 14s 7ms/step - loss: 0.5650 - acc: 0.7540 - val_loss: 0.4565 - val_acc: 0.8400\n",
      "Epoch 16/20\n",
      "1900/2000 [===========================>..] - ETA: 0s - loss: 0.5582 - acc: 0.7595Epoch 00016: val_loss did not improve\n",
      "2000/2000 [==============================] - 14s 7ms/step - loss: 0.5576 - acc: 0.7580 - val_loss: 0.4518 - val_acc: 0.7867\n",
      "Epoch 17/20\n",
      "1900/2000 [===========================>..] - ETA: 0s - loss: 0.5492 - acc: 0.7579Epoch 00017: val_loss improved from 0.45085 to 0.44972, saving model to saved_models/weights.best.from_scratch.hdf5\n",
      "2000/2000 [==============================] - 16s 8ms/step - loss: 0.5523 - acc: 0.7560 - val_loss: 0.4497 - val_acc: 0.7733\n",
      "Epoch 18/20\n",
      "1900/2000 [===========================>..] - ETA: 0s - loss: 0.5267 - acc: 0.7863Epoch 00018: val_loss improved from 0.44972 to 0.43499, saving model to saved_models/weights.best.from_scratch.hdf5\n",
      "2000/2000 [==============================] - 15s 7ms/step - loss: 0.5383 - acc: 0.7775 - val_loss: 0.4350 - val_acc: 0.8000\n",
      "Epoch 19/20\n",
      "1900/2000 [===========================>..] - ETA: 0s - loss: 0.5535 - acc: 0.7626Epoch 00019: val_loss did not improve\n",
      "2000/2000 [==============================] - 14s 7ms/step - loss: 0.5470 - acc: 0.7665 - val_loss: 0.4373 - val_acc: 0.8067\n",
      "Epoch 20/20\n",
      "1900/2000 [===========================>..] - ETA: 0s - loss: 0.5186 - acc: 0.7884Epoch 00020: val_loss improved from 0.43499 to 0.41369, saving model to saved_models/weights.best.from_scratch.hdf5\n",
      "2000/2000 [==============================] - 15s 7ms/step - loss: 0.5208 - acc: 0.7875 - val_loss: 0.4137 - val_acc: 0.8200\n"
     ]
    }
   ],
   "source": [
    "epochs = 20\n",
    "batch_size = batch_size\n",
    "\n",
    "checkpointer = ModelCheckpoint(filepath='saved_models/weights.best.from_scratch.hdf5', \n",
    "                               verbose=1, save_best_only=True)\n",
    "early_stopping = EarlyStopping(monitor='val_loss', min_delta=0.001, patience=4, verbose=1, mode='auto')\n",
    "\n",
    "hist = model.fit(np.array(trn_files), np.array(trn_label_vecs), \n",
    "          validation_data=(np.array(vld_files), np.array(vld_label_vecs)),\n",
    "          epochs=epochs, batch_size=batch_size, callbacks=[checkpointer, early_stopping], verbose=1)"
   ]
  },
  {
   "cell_type": "code",
   "execution_count": 69,
   "metadata": {},
   "outputs": [
    {
     "data": {
      "image/png": "[encoded data removed]",
      "text/plain": [
       "<matplotlib.figure.Figure at 0x7f6b257afa58>"
      ]
     },
     "metadata": {},
     "output_type": "display_data"
    }
   ],
   "source": [
    "plt.plot(hist.history['acc'])\n",
    "plt.plot(hist.history['val_acc'])\n",
    "plt.title('Model Accuracy')\n",
    "plt.ylabel('Accuracy')\n",
    "plt.xlabel('Epoch')\n",
    "plt.legend(['train', 'test'], loc='upper left')\n",
    "plt.show()"
   ]
  },
  {
   "cell_type": "code",
   "execution_count": 70,
   "metadata": {},
   "outputs": [
    {
     "data": {
      "image/png": "[encoded data removed]",
      "text/plain": [
       "<matplotlib.figure.Figure at 0x7f6b1eb29ef0>"
      ]
     },
     "metadata": {},
     "output_type": "display_data"
    }
   ],
   "source": [
    "plt.plot(hist.history['loss'])\n",
    "plt.plot(hist.history['val_loss'])\n",
    "plt.title('Model Loss')\n",
    "plt.ylabel('Loss')\n",
    "plt.xlabel('Epoch')\n",
    "plt.legend(['train', 'test'], loc='upper left')\n",
    "plt.show()"
   ]
  },
  {
   "cell_type": "markdown",
   "metadata": {
    "collapsed": true
   },
   "source": [
    "# Predicting with the Model"
   ]
  },
  {
   "cell_type": "code",
   "execution_count": 71,
   "metadata": {
    "collapsed": true
   },
   "outputs": [],
   "source": [
    "def predict_image(model, img_matrix): \n",
    "    '''\n",
    "    This function accepts the final model from above and returns a classification of all all three types. \n",
    "    ***Args***\n",
    "    model: CNN Trained above\n",
    "    img_matrix: image data in a numpy array\n",
    "    '''\n",
    "    img = np.expand_dims(img_matrix, axis=0)\n",
    "    img = preprocess_input(img)\n",
    "    return model.predict(img)\n",
    "\n",
    "def convert_prediction(values):\n",
    "    '''\n",
    "    This function accepts a numpy array of predicted values and returns a dictionary of predictions of each label.\n",
    "    ***Args***\n",
    "    values: Numpy Array of predicted values.\n",
    "    '''\n",
    "    labels = ['Melanoma', 'Nevus', 'Seborrheic Keratosis']\n",
    "    value_hash = {}\n",
    "    for i in range(len(labels)):\n",
    "        value_hash[labels[i]] = values[0][i]\n",
    "    return value_hash"
   ]
  },
  {
   "cell_type": "code",
   "execution_count": 72,
   "metadata": {
    "collapsed": true
   },
   "outputs": [],
   "source": [
    "values = predict_image(model, trn_files[0])\n",
    "predictions = convert_prediction(values)"
   ]
  },
  {
   "cell_type": "code",
   "execution_count": 73,
   "metadata": {},
   "outputs": [
    {
     "data": {
      "text/plain": [
       "'Seborrheic Keratosis'"
      ]
     },
     "execution_count": 73,
     "metadata": {},
     "output_type": "execute_result"
    }
   ],
   "source": [
    "max(predictions)"
   ]
  },
  {
   "cell_type": "code",
   "execution_count": 74,
   "metadata": {},
   "outputs": [
    {
     "data": {
      "text/plain": [
       "array([0, 0, 1])"
      ]
     },
     "execution_count": 74,
     "metadata": {},
     "output_type": "execute_result"
    }
   ],
   "source": [
    "trn_label_vecs[0]"
   ]
  },
  {
   "cell_type": "code",
   "execution_count": null,
   "metadata": {
    "collapsed": true
   },
   "outputs": [],
   "source": []
  }
 ],
 "metadata": {
  "kernelspec": {
   "display_name": "Python 3",
   "language": "python",
   "name": "python3"
  },
  "language_info": {
   "codemirror_mode": {
    "name": "ipython",
    "version": 3
   },
   "file_extension": ".py",
   "mimetype": "text/x-python",
   "name": "python",
   "nbconvert_exporter": "python",
   "pygments_lexer": "ipython3",
   "version": "3.6.3"
  }
 },
 "nbformat": 4,
 "nbformat_minor": 2
}
